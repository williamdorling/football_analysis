{
 "cells": [
  {
   "cell_type": "markdown",
   "metadata": {},
   "source": [
    "## Football Analysis Notebook:\n",
    "An project to explore and analyse a set of all men's senior international football results from 1872 up to 2024.\n",
    "<br>\n",
    "Data taken from https://www.kaggle.com/datasets/martj42/international-football-results-from-1872-to-2017/data"
   ]
  },
  {
   "cell_type": "code",
   "execution_count": 2,
   "metadata": {},
   "outputs": [],
   "source": [
    "# Import libraries\n",
    "import pandas as pd\n",
    "import numpy as np\n",
    "import matplotlib as plt"
   ]
  },
  {
   "cell_type": "code",
   "execution_count": 3,
   "metadata": {},
   "outputs": [],
   "source": [
    "# Load dataframes\n",
    "goalscorers = pd.read_csv('goalscorers.csv')\n",
    "results = pd.read_csv('results.csv')\n",
    "shootouts = pd.read_csv('shootouts.csv')"
   ]
  },
  {
   "cell_type": "code",
   "execution_count": 17,
   "metadata": {},
   "outputs": [
    {
     "name": "stdout",
     "output_type": "stream",
     "text": [
      "the goalscorers dataframe has 44362 rows and 8 columns\n",
      "The goalscores dataframe column names are:\n",
      " ['date', 'home_team', 'away_team', 'team', 'scorer', 'minute', 'own_goal', 'penalty']\n",
      "\n",
      "the results dataframe has 47598 rows and 9 columns\n",
      "The results dataframe column names are:\n",
      " ['date', 'home_team', 'away_team', 'home_score', 'away_score', 'tournament', 'city', 'country', 'neutral']\n",
      "\n",
      "the shootouts dataframe has 645 rows and 5 columns\n",
      "The shootouts dataframe column names are:\n",
      " ['date', 'home_team', 'away_team', 'winner', 'first_shooter']\n"
     ]
    }
   ],
   "source": [
    "# exploratory analysis\n",
    "gRow, gCol = goalscorers.shape\n",
    "rRow, rCol = results.shape\n",
    "sRow, sCol = shootouts.shape\n",
    "print(f\"the goalscorers dataframe has {gRow} rows and {gCol} columns\")\n",
    "print(f\"The goalscores dataframe column names are:\\n\",list(goalscorers))\n",
    "print(f\"\\nthe results dataframe has {rRow} rows and {rCol} columns\")\n",
    "print(f\"The results dataframe column names are:\\n\",list(results))\n",
    "print(f\"\\nthe shootouts dataframe has {sRow} rows and {sCol} columns\")\n",
    "print(f\"The shootouts dataframe column names are:\\n\",list(shootouts))"
   ]
  }
 ],
 "metadata": {
  "kernelspec": {
   "display_name": "Python 3",
   "language": "python",
   "name": "python3"
  },
  "language_info": {
   "codemirror_mode": {
    "name": "ipython",
    "version": 3
   },
   "file_extension": ".py",
   "mimetype": "text/x-python",
   "name": "python",
   "nbconvert_exporter": "python",
   "pygments_lexer": "ipython3",
   "version": "3.12.5"
  }
 },
 "nbformat": 4,
 "nbformat_minor": 2
}
