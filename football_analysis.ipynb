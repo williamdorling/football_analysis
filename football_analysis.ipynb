{
 "cells": [
  {
   "cell_type": "markdown",
   "metadata": {},
   "source": [
    "## Football Analysis Notebook:\n",
    "An project to explore and analyse a set of all men's senior international football results from 1872 up to 2024.\n",
    "<br>\n",
    "Data taken from https://www.kaggle.com/datasets/martj42/international-football-results-from-1872-to-2017/data"
   ]
  },
  {
   "cell_type": "markdown",
   "metadata": {},
   "source": [
    "Ideas:\n",
    "- Average goals per game by year\n",
    "- Teams with most wins in given era\n",
    "- For a given team, plot there performance over the years\n",
    "- Which teams are the best at shootouts?\n",
    "- Best performing teams at worldcups"
   ]
  },
  {
   "cell_type": "code",
   "execution_count": 1,
   "metadata": {},
   "outputs": [],
   "source": [
    "# Import libraries\n",
    "import pandas as pd\n",
    "import datetime\n",
    "import numpy as np\n",
    "import matplotlib.pyplot as plt"
   ]
  },
  {
   "cell_type": "code",
   "execution_count": 2,
   "metadata": {},
   "outputs": [
    {
     "data": {
      "text/html": [
       "<div>\n",
       "<style scoped>\n",
       "    .dataframe tbody tr th:only-of-type {\n",
       "        vertical-align: middle;\n",
       "    }\n",
       "\n",
       "    .dataframe tbody tr th {\n",
       "        vertical-align: top;\n",
       "    }\n",
       "\n",
       "    .dataframe thead th {\n",
       "        text-align: right;\n",
       "    }\n",
       "</style>\n",
       "<table border=\"1\" class=\"dataframe\">\n",
       "  <thead>\n",
       "    <tr style=\"text-align: right;\">\n",
       "      <th></th>\n",
       "      <th>date</th>\n",
       "      <th>home_team</th>\n",
       "      <th>away_team</th>\n",
       "      <th>home_score</th>\n",
       "      <th>away_score</th>\n",
       "      <th>tournament</th>\n",
       "      <th>city</th>\n",
       "      <th>country</th>\n",
       "      <th>neutral</th>\n",
       "    </tr>\n",
       "  </thead>\n",
       "  <tbody>\n",
       "    <tr>\n",
       "      <th>0</th>\n",
       "      <td>1872-11-30</td>\n",
       "      <td>Scotland</td>\n",
       "      <td>England</td>\n",
       "      <td>0</td>\n",
       "      <td>0</td>\n",
       "      <td>Friendly</td>\n",
       "      <td>Glasgow</td>\n",
       "      <td>Scotland</td>\n",
       "      <td>False</td>\n",
       "    </tr>\n",
       "    <tr>\n",
       "      <th>1</th>\n",
       "      <td>1873-03-08</td>\n",
       "      <td>England</td>\n",
       "      <td>Scotland</td>\n",
       "      <td>4</td>\n",
       "      <td>2</td>\n",
       "      <td>Friendly</td>\n",
       "      <td>London</td>\n",
       "      <td>England</td>\n",
       "      <td>False</td>\n",
       "    </tr>\n",
       "    <tr>\n",
       "      <th>2</th>\n",
       "      <td>1874-03-07</td>\n",
       "      <td>Scotland</td>\n",
       "      <td>England</td>\n",
       "      <td>2</td>\n",
       "      <td>1</td>\n",
       "      <td>Friendly</td>\n",
       "      <td>Glasgow</td>\n",
       "      <td>Scotland</td>\n",
       "      <td>False</td>\n",
       "    </tr>\n",
       "    <tr>\n",
       "      <th>3</th>\n",
       "      <td>1875-03-06</td>\n",
       "      <td>England</td>\n",
       "      <td>Scotland</td>\n",
       "      <td>2</td>\n",
       "      <td>2</td>\n",
       "      <td>Friendly</td>\n",
       "      <td>London</td>\n",
       "      <td>England</td>\n",
       "      <td>False</td>\n",
       "    </tr>\n",
       "    <tr>\n",
       "      <th>4</th>\n",
       "      <td>1876-03-04</td>\n",
       "      <td>Scotland</td>\n",
       "      <td>England</td>\n",
       "      <td>3</td>\n",
       "      <td>0</td>\n",
       "      <td>Friendly</td>\n",
       "      <td>Glasgow</td>\n",
       "      <td>Scotland</td>\n",
       "      <td>False</td>\n",
       "    </tr>\n",
       "  </tbody>\n",
       "</table>\n",
       "</div>"
      ],
      "text/plain": [
       "         date home_team away_team  home_score  away_score tournament     city  \\\n",
       "0  1872-11-30  Scotland   England           0           0   Friendly  Glasgow   \n",
       "1  1873-03-08   England  Scotland           4           2   Friendly   London   \n",
       "2  1874-03-07  Scotland   England           2           1   Friendly  Glasgow   \n",
       "3  1875-03-06   England  Scotland           2           2   Friendly   London   \n",
       "4  1876-03-04  Scotland   England           3           0   Friendly  Glasgow   \n",
       "\n",
       "    country  neutral  \n",
       "0  Scotland    False  \n",
       "1   England    False  \n",
       "2  Scotland    False  \n",
       "3   England    False  \n",
       "4  Scotland    False  "
      ]
     },
     "execution_count": 2,
     "metadata": {},
     "output_type": "execute_result"
    }
   ],
   "source": [
    "# Load dataframes\n",
    "goalscorers = pd.read_csv('goalscorers.csv')\n",
    "results = pd.read_csv('results.csv')\n",
    "shootouts = pd.read_csv('shootouts.csv')\n",
    "results.head()"
   ]
  },
  {
   "cell_type": "code",
   "execution_count": 3,
   "metadata": {},
   "outputs": [
    {
     "name": "stdout",
     "output_type": "stream",
     "text": [
      "the goalscorers dataframe has 44362 rows and 8 columns\n",
      "The goalscores dataframe column names are:\n",
      " ['date', 'home_team', 'away_team', 'team', 'scorer', 'minute', 'own_goal', 'penalty']\n",
      "\n",
      "the results dataframe has 47598 rows and 9 columns\n",
      "The results dataframe column names are:\n",
      " ['date', 'home_team', 'away_team', 'home_score', 'away_score', 'tournament', 'city', 'country', 'neutral']\n",
      "\n",
      "the shootouts dataframe has 645 rows and 5 columns\n",
      "The shootouts dataframe column names are:\n",
      " ['date', 'home_team', 'away_team', 'winner', 'first_shooter']\n"
     ]
    }
   ],
   "source": [
    "# exploratory analysis\n",
    "gRow, gCol = goalscorers.shape\n",
    "rRow, rCol = results.shape\n",
    "sRow, sCol = shootouts.shape\n",
    "print(f\"the goalscorers dataframe has {gRow} rows and {gCol} columns\")\n",
    "print(f\"The goalscores dataframe column names are:\\n\",list(goalscorers))\n",
    "print(f\"\\nthe results dataframe has {rRow} rows and {rCol} columns\")\n",
    "print(f\"The results dataframe column names are:\\n\",list(results))\n",
    "print(f\"\\nthe shootouts dataframe has {sRow} rows and {sCol} columns\")\n",
    "print(f\"The shootouts dataframe column names are:\\n\",list(shootouts))"
   ]
  },
  {
   "cell_type": "markdown",
   "metadata": {},
   "source": [
    "# First analysis: \n",
    "Firstly, I would like to visualise how the average number of goals scored per game has changed over time.\n",
    "<br>I will use the results dataframe to find the average number of goals scored per game for each year, and plot this data"
   ]
  },
  {
   "cell_type": "markdown",
   "metadata": {},
   "source": [
    "We should consider that for years with few games played, this information will not be particularly informative. We should check if there are years with very few games played and exclude these from our analysis"
   ]
  },
  {
   "cell_type": "code",
   "execution_count": 4,
   "metadata": {},
   "outputs": [
    {
     "data": {
      "image/png": "[encoded data removed]",
      "text/plain": [
       "<Figure size 640x480 with 1 Axes>"
      ]
     },
     "metadata": {},
     "output_type": "display_data"
    }
   ],
   "source": [
    "years = range(1872, 2025)\n",
    "\n",
    "# create a new column in our dataframe with the year the game took place\n",
    "def year_from_date (date):\n",
    "    date = pd.to_datetime(date)\n",
    "    return date.dt.year\n",
    "results['year'] = year_from_date(results['date'])\n",
    "\n",
    "years_games = [results['year'].value_counts()[i] for i in years]\n",
    "\n",
    "# create plot of years against number of games played in that year\n",
    "plt.figure()\n",
    "plt.title('games per year')\n",
    "plt.xlabel('year')\n",
    "plt.ylabel('number of games')\n",
    "plt.plot(years, years_games)\n",
    "plt.show()"
   ]
  },
  {
   "cell_type": "markdown",
   "metadata": {},
   "source": [
    "For the analysis to be useful, there needs to be a good number of games played in the years we are analysing. I would like to only consider years where at least 100 games were played. I would like the data to begin from the earliest year where all future years have at least 100 games played.<br>\n",
    "This threshold can be altered by changing the variable in the below code block"
   ]
  },
  {
   "cell_type": "code",
   "execution_count": 7,
   "metadata": {},
   "outputs": [
    {
     "name": "stdout",
     "output_type": "stream",
     "text": [
      "The most recent year with fewer than 100 games played was 1945.\n",
      "We will restrict our analysis to years 1946 onwards.\n"
     ]
    }
   ],
   "source": [
    "threshold = 100\n",
    "start_year = 2024\n",
    "while results['year'].value_counts()[start_year] >= threshold:\n",
    "    start_year -= 1\n",
    "start_year += 1\n",
    "\n",
    "print(f'The most recent year with fewer than {threshold} games played was {start_year -1}.')\n",
    "print(f'We will restrict our analysis to years {start_year} onwards.')\n",
    "\n",
    "new_results = results[results['year'] >= start_year]\n"
   ]
  },
  {
   "cell_type": "markdown",
   "metadata": {},
   "source": [
    "Now we have restricted our dataframe to years with a good sample size, we can create a plot of the average number of goals scored per game by year"
   ]
  },
  {
   "cell_type": "code",
   "execution_count": 9,
   "metadata": {},
   "outputs": [
    {
     "name": "stderr",
     "output_type": "stream",
     "text": [
      "C:\\Users\\willi\\AppData\\Local\\Temp\\ipykernel_13072\\1952596592.py:2: SettingWithCopyWarning: \n",
      "A value is trying to be set on a copy of a slice from a DataFrame.\n",
      "Try using .loc[row_indexer,col_indexer] = value instead\n",
      "\n",
      "See the caveats in the documentation: https://pandas.pydata.org/pandas-docs/stable/user_guide/indexing.html#returning-a-view-versus-a-copy\n",
      "  new_results['total_goals'] = new_results['home_score'] + new_results['away_score']\n"
     ]
    },
    {
     "data": {
      "image/png": "[encoded data removed]",
      "text/plain": [
       "<Figure size 640x480 with 1 Axes>"
      ]
     },
     "metadata": {},
     "output_type": "display_data"
    }
   ],
   "source": [
    "# create new column in results dataframe, total_goals\n",
    "new_results['total_goals'] = new_results['home_score'] + new_results['away_score']\n",
    "\n",
    "# group matches together by year, and calculate the average number of goals per match by year\n",
    "avg_goals_per_year = new_results.groupby('year')['total_goals'].mean()\n",
    "\n",
    "plt.figure()\n",
    "avg_goals_per_year.plot(kind='line')\n",
    "plt.title('Average goals scored per game by year')\n",
    "plt.xlabel('year')\n",
    "plt.ylabel('Average goals per game')\n",
    "plt.show()"
   ]
  },
  {
   "cell_type": "markdown",
   "metadata": {},
   "source": [
    "# Second Analysis\n",
    "For the next analysis, I would like to create a resource to allow users to explore a certain team's performance over the years. I would like to map how a teams win percentage has changed over time."
   ]
  },
  {
   "cell_type": "code",
   "execution_count": 17,
   "metadata": {},
   "outputs": [
    {
     "name": "stderr",
     "output_type": "stream",
     "text": [
      "C:\\Users\\willi\\AppData\\Local\\Temp\\ipykernel_16436\\1901456751.py:12: SettingWithCopyWarning: \n",
      "A value is trying to be set on a copy of a slice from a DataFrame.\n",
      "Try using .loc[row_indexer,col_indexer] = value instead\n",
      "\n",
      "See the caveats in the documentation: https://pandas.pydata.org/pandas-docs/stable/user_guide/indexing.html#returning-a-view-versus-a-copy\n",
      "  team_results['win'] = team_win(team, team_results['home_team'], team_results['home_score'], team_results['away_team'], team_results['away_score'])\n"
     ]
    },
    {
     "data": {
      "text/html": [
       "<div>\n",
       "<style scoped>\n",
       "    .dataframe tbody tr th:only-of-type {\n",
       "        vertical-align: middle;\n",
       "    }\n",
       "\n",
       "    .dataframe tbody tr th {\n",
       "        vertical-align: top;\n",
       "    }\n",
       "\n",
       "    .dataframe thead th {\n",
       "        text-align: right;\n",
       "    }\n",
       "</style>\n",
       "<table border=\"1\" class=\"dataframe\">\n",
       "  <thead>\n",
       "    <tr style=\"text-align: right;\">\n",
       "      <th></th>\n",
       "      <th>date</th>\n",
       "      <th>home_team</th>\n",
       "      <th>away_team</th>\n",
       "      <th>home_score</th>\n",
       "      <th>away_score</th>\n",
       "      <th>tournament</th>\n",
       "      <th>city</th>\n",
       "      <th>country</th>\n",
       "      <th>neutral</th>\n",
       "      <th>win</th>\n",
       "    </tr>\n",
       "  </thead>\n",
       "  <tbody>\n",
       "    <tr>\n",
       "      <th>0</th>\n",
       "      <td>1872-11-30</td>\n",
       "      <td>Scotland</td>\n",
       "      <td>England</td>\n",
       "      <td>0</td>\n",
       "      <td>0</td>\n",
       "      <td>Friendly</td>\n",
       "      <td>Glasgow</td>\n",
       "      <td>Scotland</td>\n",
       "      <td>False</td>\n",
       "      <td>False</td>\n",
       "    </tr>\n",
       "    <tr>\n",
       "      <th>1</th>\n",
       "      <td>1873-03-08</td>\n",
       "      <td>England</td>\n",
       "      <td>Scotland</td>\n",
       "      <td>4</td>\n",
       "      <td>2</td>\n",
       "      <td>Friendly</td>\n",
       "      <td>London</td>\n",
       "      <td>England</td>\n",
       "      <td>False</td>\n",
       "      <td>True</td>\n",
       "    </tr>\n",
       "    <tr>\n",
       "      <th>2</th>\n",
       "      <td>1874-03-07</td>\n",
       "      <td>Scotland</td>\n",
       "      <td>England</td>\n",
       "      <td>2</td>\n",
       "      <td>1</td>\n",
       "      <td>Friendly</td>\n",
       "      <td>Glasgow</td>\n",
       "      <td>Scotland</td>\n",
       "      <td>False</td>\n",
       "      <td>False</td>\n",
       "    </tr>\n",
       "    <tr>\n",
       "      <th>3</th>\n",
       "      <td>1875-03-06</td>\n",
       "      <td>England</td>\n",
       "      <td>Scotland</td>\n",
       "      <td>2</td>\n",
       "      <td>2</td>\n",
       "      <td>Friendly</td>\n",
       "      <td>London</td>\n",
       "      <td>England</td>\n",
       "      <td>False</td>\n",
       "      <td>False</td>\n",
       "    </tr>\n",
       "    <tr>\n",
       "      <th>4</th>\n",
       "      <td>1876-03-04</td>\n",
       "      <td>Scotland</td>\n",
       "      <td>England</td>\n",
       "      <td>3</td>\n",
       "      <td>0</td>\n",
       "      <td>Friendly</td>\n",
       "      <td>Glasgow</td>\n",
       "      <td>Scotland</td>\n",
       "      <td>False</td>\n",
       "      <td>False</td>\n",
       "    </tr>\n",
       "    <tr>\n",
       "      <th>6</th>\n",
       "      <td>1877-03-03</td>\n",
       "      <td>England</td>\n",
       "      <td>Scotland</td>\n",
       "      <td>1</td>\n",
       "      <td>3</td>\n",
       "      <td>Friendly</td>\n",
       "      <td>London</td>\n",
       "      <td>England</td>\n",
       "      <td>False</td>\n",
       "      <td>False</td>\n",
       "    </tr>\n",
       "    <tr>\n",
       "      <th>8</th>\n",
       "      <td>1878-03-02</td>\n",
       "      <td>Scotland</td>\n",
       "      <td>England</td>\n",
       "      <td>7</td>\n",
       "      <td>2</td>\n",
       "      <td>Friendly</td>\n",
       "      <td>Glasgow</td>\n",
       "      <td>Scotland</td>\n",
       "      <td>False</td>\n",
       "      <td>False</td>\n",
       "    </tr>\n",
       "    <tr>\n",
       "      <th>10</th>\n",
       "      <td>1879-01-18</td>\n",
       "      <td>England</td>\n",
       "      <td>Wales</td>\n",
       "      <td>2</td>\n",
       "      <td>1</td>\n",
       "      <td>Friendly</td>\n",
       "      <td>London</td>\n",
       "      <td>England</td>\n",
       "      <td>False</td>\n",
       "      <td>True</td>\n",
       "    </tr>\n",
       "    <tr>\n",
       "      <th>11</th>\n",
       "      <td>1879-04-05</td>\n",
       "      <td>England</td>\n",
       "      <td>Scotland</td>\n",
       "      <td>5</td>\n",
       "      <td>4</td>\n",
       "      <td>Friendly</td>\n",
       "      <td>London</td>\n",
       "      <td>England</td>\n",
       "      <td>False</td>\n",
       "      <td>True</td>\n",
       "    </tr>\n",
       "    <tr>\n",
       "      <th>13</th>\n",
       "      <td>1880-03-13</td>\n",
       "      <td>Scotland</td>\n",
       "      <td>England</td>\n",
       "      <td>5</td>\n",
       "      <td>4</td>\n",
       "      <td>Friendly</td>\n",
       "      <td>Glasgow</td>\n",
       "      <td>Scotland</td>\n",
       "      <td>False</td>\n",
       "      <td>False</td>\n",
       "    </tr>\n",
       "  </tbody>\n",
       "</table>\n",
       "</div>"
      ],
      "text/plain": [
       "          date home_team away_team  home_score  away_score tournament  \\\n",
       "0   1872-11-30  Scotland   England           0           0   Friendly   \n",
       "1   1873-03-08   England  Scotland           4           2   Friendly   \n",
       "2   1874-03-07  Scotland   England           2           1   Friendly   \n",
       "3   1875-03-06   England  Scotland           2           2   Friendly   \n",
       "4   1876-03-04  Scotland   England           3           0   Friendly   \n",
       "6   1877-03-03   England  Scotland           1           3   Friendly   \n",
       "8   1878-03-02  Scotland   England           7           2   Friendly   \n",
       "10  1879-01-18   England     Wales           2           1   Friendly   \n",
       "11  1879-04-05   England  Scotland           5           4   Friendly   \n",
       "13  1880-03-13  Scotland   England           5           4   Friendly   \n",
       "\n",
       "       city   country  neutral    win  \n",
       "0   Glasgow  Scotland    False  False  \n",
       "1    London   England    False   True  \n",
       "2   Glasgow  Scotland    False  False  \n",
       "3    London   England    False  False  \n",
       "4   Glasgow  Scotland    False  False  \n",
       "6    London   England    False  False  \n",
       "8   Glasgow  Scotland    False  False  \n",
       "10   London   England    False   True  \n",
       "11   London   England    False   True  \n",
       "13  Glasgow  Scotland    False  False  "
      ]
     },
     "execution_count": 17,
     "metadata": {},
     "output_type": "execute_result"
    }
   ],
   "source": [
    "# Create new dataframe, with just the results of our selected team, with column added to indicate if they won each game\n",
    "\n",
    "team = 'England'\n",
    "\n",
    "team_results = results[(results['home_team'] == team) | (results['away_team'] == team)]\n",
    "\n",
    "def team_win (team, home_team, home_score, away_team, away_score):\n",
    "    home_win = home_score > away_score\n",
    "    away_win = away_score > home_score\n",
    "    return ((home_team == team) & home_win) | ((away_team == team) & away_win)\n",
    "\n",
    "team_results['win'] = team_win(team, team_results['home_team'], team_results['home_score'], team_results['away_team'], team_results['away_score'])\n",
    "\n",
    "team_results.head(10)"
   ]
  }
 ],
 "metadata": {
  "kernelspec": {
   "display_name": "Python 3",
   "language": "python",
   "name": "python3"
  },
  "language_info": {
   "codemirror_mode": {
    "name": "ipython",
    "version": 3
   },
   "file_extension": ".py",
   "mimetype": "text/x-python",
   "name": "python",
   "nbconvert_exporter": "python",
   "pygments_lexer": "ipython3",
   "version": "3.12.5"
  }
 },
 "nbformat": 4,
 "nbformat_minor": 2
}
